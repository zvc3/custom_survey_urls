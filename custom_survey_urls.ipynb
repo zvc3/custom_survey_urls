{
 "cells": [
  {
   "cell_type": "markdown",
   "metadata": {},
   "source": [
    "# Building Custom URLs for SurveyMonkey\n",
    "\n",
    "There are 3 custom values that need to be replaced in the SurveyMonkey URL. The custom values in this case indicate the Organization, Last Name, and Email of potential survey respondents. \n",
    "\n",
    "Example URL: \n",
    "https://www.surveymonkey.com/r/ASDF123?x=[x_value]&y=[y_value]&z=[z_value]\n",
    "\n",
    "Example URL with unique values: \n",
    "https://www.surveymonkey.com/r/ASDF123?x=x&y=y&z=z\n",
    "\n",
    "X, y, and z are all strings. They may be of any length as long as they don't exceed SurveyMonkey's length limit for URLs.\n",
    "\n",
    "How do we replace [custom_value] in each URL with the corresponding unique value?"
   ]
  },
  {
   "cell_type": "code",
   "execution_count": 2,
   "metadata": {},
   "outputs": [],
   "source": [
    "import pandas as pd\n",
    "import re"
   ]
  },
  {
   "cell_type": "code",
   "execution_count": 3,
   "metadata": {
    "scrolled": true
   },
   "outputs": [
    {
     "name": "stdout",
     "output_type": "stream",
     "text": [
      "<class 'pandas.core.frame.DataFrame'>\n",
      "RangeIndex: 3 entries, 0 to 2\n",
      "Data columns (total 7 columns):\n",
      "Email Address    3 non-null object\n",
      "First Name       3 non-null object\n",
      "Last Name        3 non-null object\n",
      "Company          3 non-null object\n",
      "Lists            3 non-null object\n",
      "Tags             3 non-null object\n",
      "Collectors       3 non-null object\n",
      "dtypes: object(7)\n",
      "memory usage: 248.0+ bytes\n"
     ]
    },
    {
     "data": {
      "text/html": [
       "<div>\n",
       "<style scoped>\n",
       "    .dataframe tbody tr th:only-of-type {\n",
       "        vertical-align: middle;\n",
       "    }\n",
       "\n",
       "    .dataframe tbody tr th {\n",
       "        vertical-align: top;\n",
       "    }\n",
       "\n",
       "    .dataframe thead th {\n",
       "        text-align: right;\n",
       "    }\n",
       "</style>\n",
       "<table border=\"1\" class=\"dataframe\">\n",
       "  <thead>\n",
       "    <tr style=\"text-align: right;\">\n",
       "      <th></th>\n",
       "      <th>Email Address</th>\n",
       "      <th>First Name</th>\n",
       "      <th>Last Name</th>\n",
       "      <th>Company</th>\n",
       "      <th>Lists</th>\n",
       "      <th>Tags</th>\n",
       "      <th>Collectors</th>\n",
       "    </tr>\n",
       "  </thead>\n",
       "  <tbody>\n",
       "    <tr>\n",
       "      <th>0</th>\n",
       "      <td>jdoe@gmail.com</td>\n",
       "      <td>Jane</td>\n",
       "      <td>Doe</td>\n",
       "      <td>BassAckwards</td>\n",
       "      <td>List A</td>\n",
       "      <td>Tag b</td>\n",
       "      <td>https://www.surveymonkey.com/r/YV7KSRQ?em=[em_...</td>\n",
       "    </tr>\n",
       "    <tr>\n",
       "      <th>1</th>\n",
       "      <td>suzie@acme.com</td>\n",
       "      <td>Suzie</td>\n",
       "      <td>Q</td>\n",
       "      <td>Acme</td>\n",
       "      <td>List A</td>\n",
       "      <td>Tag b</td>\n",
       "      <td>https://www.surveymonkey.com/r/YV7KSRQ?em=[em_...</td>\n",
       "    </tr>\n",
       "    <tr>\n",
       "      <th>2</th>\n",
       "      <td>rdodger@agate.org</td>\n",
       "      <td>Roger</td>\n",
       "      <td>Dodger</td>\n",
       "      <td>Agate</td>\n",
       "      <td>List A</td>\n",
       "      <td>Tag b</td>\n",
       "      <td>https://www.surveymonkey.com/r/YV7KSRQ?em=[em_...</td>\n",
       "    </tr>\n",
       "  </tbody>\n",
       "</table>\n",
       "</div>"
      ],
      "text/plain": [
       "       Email Address First Name Last Name       Company   Lists   Tags  \\\n",
       "0     jdoe@gmail.com       Jane       Doe  BassAckwards  List A  Tag b   \n",
       "1     suzie@acme.com      Suzie         Q          Acme  List A  Tag b   \n",
       "2  rdodger@agate.org      Roger    Dodger         Agate  List A  Tag b   \n",
       "\n",
       "                                          Collectors  \n",
       "0  https://www.surveymonkey.com/r/YV7KSRQ?em=[em_...  \n",
       "1  https://www.surveymonkey.com/r/YV7KSRQ?em=[em_...  \n",
       "2  https://www.surveymonkey.com/r/YV7KSRQ?em=[em_...  "
      ]
     },
     "execution_count": 3,
     "metadata": {},
     "output_type": "execute_result"
    }
   ],
   "source": [
    "df = pd.read_csv('contacts_2.csv')\n",
    "df.info()\n",
    "df"
   ]
  },
  {
   "cell_type": "markdown",
   "metadata": {},
   "source": [
    "#### The default max_colwidth is equal to 50. URL is too long to read at default setting."
   ]
  },
  {
   "cell_type": "code",
   "execution_count": 7,
   "metadata": {},
   "outputs": [
    {
     "data": {
      "text/html": [
       "<div>\n",
       "<style scoped>\n",
       "    .dataframe tbody tr th:only-of-type {\n",
       "        vertical-align: middle;\n",
       "    }\n",
       "\n",
       "    .dataframe tbody tr th {\n",
       "        vertical-align: top;\n",
       "    }\n",
       "\n",
       "    .dataframe thead th {\n",
       "        text-align: right;\n",
       "    }\n",
       "</style>\n",
       "<table border=\"1\" class=\"dataframe\">\n",
       "  <thead>\n",
       "    <tr style=\"text-align: right;\">\n",
       "      <th></th>\n",
       "      <th>Email Address</th>\n",
       "      <th>First Name</th>\n",
       "      <th>Last Name</th>\n",
       "      <th>Company</th>\n",
       "      <th>Lists</th>\n",
       "      <th>Tags</th>\n",
       "      <th>Collectors</th>\n",
       "    </tr>\n",
       "  </thead>\n",
       "  <tbody>\n",
       "    <tr>\n",
       "      <th>0</th>\n",
       "      <td>jdoe@gmail.com</td>\n",
       "      <td>Jane</td>\n",
       "      <td>Doe</td>\n",
       "      <td>BassAckwards</td>\n",
       "      <td>List A</td>\n",
       "      <td>Tag b</td>\n",
       "      <td>https://www.surveymonkey.com/r/YV7KSRQ?em=[em_value]&amp;ln=[ln_value]&amp;or=[or_value]</td>\n",
       "    </tr>\n",
       "    <tr>\n",
       "      <th>1</th>\n",
       "      <td>suzie@acme.com</td>\n",
       "      <td>Suzie</td>\n",
       "      <td>Q</td>\n",
       "      <td>Acme</td>\n",
       "      <td>List A</td>\n",
       "      <td>Tag b</td>\n",
       "      <td>https://www.surveymonkey.com/r/YV7KSRQ?em=[em_value]&amp;ln=[ln_value]&amp;or=[or_value]</td>\n",
       "    </tr>\n",
       "    <tr>\n",
       "      <th>2</th>\n",
       "      <td>rdodger@agate.org</td>\n",
       "      <td>Roger</td>\n",
       "      <td>Dodger</td>\n",
       "      <td>Agate</td>\n",
       "      <td>List A</td>\n",
       "      <td>Tag b</td>\n",
       "      <td>https://www.surveymonkey.com/r/YV7KSRQ?em=[em_value]&amp;ln=[ln_value]&amp;or=[or_value]</td>\n",
       "    </tr>\n",
       "  </tbody>\n",
       "</table>\n",
       "</div>"
      ],
      "text/plain": [
       "       Email Address First Name Last Name       Company   Lists   Tags  \\\n",
       "0     jdoe@gmail.com       Jane       Doe  BassAckwards  List A  Tag b   \n",
       "1     suzie@acme.com      Suzie         Q          Acme  List A  Tag b   \n",
       "2  rdodger@agate.org      Roger    Dodger         Agate  List A  Tag b   \n",
       "\n",
       "                                                                         Collectors  \n",
       "0  https://www.surveymonkey.com/r/YV7KSRQ?em=[em_value]&ln=[ln_value]&or=[or_value]  \n",
       "1  https://www.surveymonkey.com/r/YV7KSRQ?em=[em_value]&ln=[ln_value]&or=[or_value]  \n",
       "2  https://www.surveymonkey.com/r/YV7KSRQ?em=[em_value]&ln=[ln_value]&or=[or_value]  "
      ]
     },
     "execution_count": 7,
     "metadata": {},
     "output_type": "execute_result"
    }
   ],
   "source": [
    "pd.options.display.max_colwidth = 100\n",
    "\n",
    "df"
   ]
  },
  {
   "cell_type": "code",
   "execution_count": 8,
   "metadata": {
    "scrolled": false
   },
   "outputs": [
    {
     "data": {
      "text/plain": [
       "{0: 'bassackwards', 1: 'acme', 2: 'agate'}"
      ]
     },
     "execution_count": 8,
     "metadata": {},
     "output_type": "execute_result"
    }
   ],
   "source": [
    "x = df.Company.str.replace('-| |\\'|\\.|\\&|,|', \n",
    "                           '').str.lower().to_dict()\n",
    "\n",
    "x"
   ]
  },
  {
   "cell_type": "code",
   "execution_count": 9,
   "metadata": {
    "scrolled": true
   },
   "outputs": [
    {
     "data": {
      "text/plain": [
       "0    https://www.surveymonkey.com/r/YV7KSRQ?em=[em_value]&ln=[ln_value]&or=bassackwards\n",
       "1            https://www.surveymonkey.com/r/YV7KSRQ?em=[em_value]&ln=[ln_value]&or=acme\n",
       "2           https://www.surveymonkey.com/r/YV7KSRQ?em=[em_value]&ln=[ln_value]&or=agate\n",
       "Name: collectors2, dtype: object"
      ]
     },
     "execution_count": 9,
     "metadata": {},
     "output_type": "execute_result"
    }
   ],
   "source": [
    "df['collectors2'] = df.Collectors.replace(regex=r'\\[or_value\\]', value=x)\n",
    "\n",
    "df.collectors2"
   ]
  },
  {
   "cell_type": "code",
   "execution_count": 10,
   "metadata": {
    "scrolled": true
   },
   "outputs": [
    {
     "data": {
      "text/plain": [
       "{0: 'doe', 1: 'q', 2: 'dodger'}"
      ]
     },
     "execution_count": 10,
     "metadata": {},
     "output_type": "execute_result"
    }
   ],
   "source": [
    "y = df['Last Name'].str.lower().to_dict()\n",
    "\n",
    "y"
   ]
  },
  {
   "cell_type": "code",
   "execution_count": 11,
   "metadata": {
    "scrolled": true
   },
   "outputs": [
    {
     "data": {
      "text/plain": [
       "0    https://www.surveymonkey.com/r/YV7KSRQ?em=[em_value]&ln=doe&or=bassackwards\n",
       "1              https://www.surveymonkey.com/r/YV7KSRQ?em=[em_value]&ln=q&or=acme\n",
       "2        https://www.surveymonkey.com/r/YV7KSRQ?em=[em_value]&ln=dodger&or=agate\n",
       "Name: collectors2, dtype: object"
      ]
     },
     "execution_count": 11,
     "metadata": {},
     "output_type": "execute_result"
    }
   ],
   "source": [
    "df.collectors2 = df.collectors2.replace(regex=r'\\[ln_value\\]', value=y)\n",
    "\n",
    "df.collectors2"
   ]
  },
  {
   "cell_type": "code",
   "execution_count": 12,
   "metadata": {
    "scrolled": true
   },
   "outputs": [
    {
     "data": {
      "text/plain": [
       "{0: 'jdoe@gmail.com', 1: 'suzie@acme.com', 2: 'rdodger@agate.org'}"
      ]
     },
     "execution_count": 12,
     "metadata": {},
     "output_type": "execute_result"
    }
   ],
   "source": [
    "z = df['Email Address'].to_dict()\n",
    "\n",
    "z"
   ]
  },
  {
   "cell_type": "code",
   "execution_count": 13,
   "metadata": {
    "scrolled": true
   },
   "outputs": [
    {
     "data": {
      "text/plain": [
       "0    https://www.surveymonkey.com/r/YV7KSRQ?em=jdoe@gmail.com&ln=doe&or=bassackwards\n",
       "1              https://www.surveymonkey.com/r/YV7KSRQ?em=suzie@acme.com&ln=q&or=acme\n",
       "2     https://www.surveymonkey.com/r/YV7KSRQ?em=rdodger@agate.org&ln=dodger&or=agate\n",
       "Name: collectors2, dtype: object"
      ]
     },
     "execution_count": 13,
     "metadata": {},
     "output_type": "execute_result"
    }
   ],
   "source": [
    "df.collectors2 = df.collectors2.replace(regex=r'\\[em_value\\]', value=z)\n",
    "\n",
    "df.collectors2"
   ]
  },
  {
   "cell_type": "code",
   "execution_count": 14,
   "metadata": {},
   "outputs": [
    {
     "name": "stdout",
     "output_type": "stream",
     "text": [
      "<class 'pandas.core.frame.DataFrame'>\n",
      "RangeIndex: 3 entries, 0 to 2\n",
      "Data columns (total 8 columns):\n",
      "Email Address    3 non-null object\n",
      "First Name       3 non-null object\n",
      "Last Name        3 non-null object\n",
      "Company          3 non-null object\n",
      "Lists            3 non-null object\n",
      "Tags             3 non-null object\n",
      "Collectors       3 non-null object\n",
      "collectors2      3 non-null object\n",
      "dtypes: object(8)\n",
      "memory usage: 272.0+ bytes\n"
     ]
    },
    {
     "data": {
      "text/html": [
       "<div>\n",
       "<style scoped>\n",
       "    .dataframe tbody tr th:only-of-type {\n",
       "        vertical-align: middle;\n",
       "    }\n",
       "\n",
       "    .dataframe tbody tr th {\n",
       "        vertical-align: top;\n",
       "    }\n",
       "\n",
       "    .dataframe thead th {\n",
       "        text-align: right;\n",
       "    }\n",
       "</style>\n",
       "<table border=\"1\" class=\"dataframe\">\n",
       "  <thead>\n",
       "    <tr style=\"text-align: right;\">\n",
       "      <th></th>\n",
       "      <th>Email Address</th>\n",
       "      <th>First Name</th>\n",
       "      <th>Last Name</th>\n",
       "      <th>Company</th>\n",
       "      <th>Lists</th>\n",
       "      <th>Tags</th>\n",
       "      <th>Collectors</th>\n",
       "      <th>collectors2</th>\n",
       "    </tr>\n",
       "  </thead>\n",
       "  <tbody>\n",
       "    <tr>\n",
       "      <th>0</th>\n",
       "      <td>jdoe@gmail.com</td>\n",
       "      <td>Jane</td>\n",
       "      <td>Doe</td>\n",
       "      <td>BassAckwards</td>\n",
       "      <td>List A</td>\n",
       "      <td>Tag b</td>\n",
       "      <td>https://www.surveymonkey.com/r/YV7KSRQ?em=[em_value]&amp;ln=[ln_value]&amp;or=[or_value]</td>\n",
       "      <td>https://www.surveymonkey.com/r/YV7KSRQ?em=jdoe@gmail.com&amp;ln=doe&amp;or=bassackwards</td>\n",
       "    </tr>\n",
       "    <tr>\n",
       "      <th>1</th>\n",
       "      <td>suzie@acme.com</td>\n",
       "      <td>Suzie</td>\n",
       "      <td>Q</td>\n",
       "      <td>Acme</td>\n",
       "      <td>List A</td>\n",
       "      <td>Tag b</td>\n",
       "      <td>https://www.surveymonkey.com/r/YV7KSRQ?em=[em_value]&amp;ln=[ln_value]&amp;or=[or_value]</td>\n",
       "      <td>https://www.surveymonkey.com/r/YV7KSRQ?em=suzie@acme.com&amp;ln=q&amp;or=acme</td>\n",
       "    </tr>\n",
       "    <tr>\n",
       "      <th>2</th>\n",
       "      <td>rdodger@agate.org</td>\n",
       "      <td>Roger</td>\n",
       "      <td>Dodger</td>\n",
       "      <td>Agate</td>\n",
       "      <td>List A</td>\n",
       "      <td>Tag b</td>\n",
       "      <td>https://www.surveymonkey.com/r/YV7KSRQ?em=[em_value]&amp;ln=[ln_value]&amp;or=[or_value]</td>\n",
       "      <td>https://www.surveymonkey.com/r/YV7KSRQ?em=rdodger@agate.org&amp;ln=dodger&amp;or=agate</td>\n",
       "    </tr>\n",
       "  </tbody>\n",
       "</table>\n",
       "</div>"
      ],
      "text/plain": [
       "       Email Address First Name Last Name       Company   Lists   Tags  \\\n",
       "0     jdoe@gmail.com       Jane       Doe  BassAckwards  List A  Tag b   \n",
       "1     suzie@acme.com      Suzie         Q          Acme  List A  Tag b   \n",
       "2  rdodger@agate.org      Roger    Dodger         Agate  List A  Tag b   \n",
       "\n",
       "                                                                         Collectors  \\\n",
       "0  https://www.surveymonkey.com/r/YV7KSRQ?em=[em_value]&ln=[ln_value]&or=[or_value]   \n",
       "1  https://www.surveymonkey.com/r/YV7KSRQ?em=[em_value]&ln=[ln_value]&or=[or_value]   \n",
       "2  https://www.surveymonkey.com/r/YV7KSRQ?em=[em_value]&ln=[ln_value]&or=[or_value]   \n",
       "\n",
       "                                                                       collectors2  \n",
       "0  https://www.surveymonkey.com/r/YV7KSRQ?em=jdoe@gmail.com&ln=doe&or=bassackwards  \n",
       "1            https://www.surveymonkey.com/r/YV7KSRQ?em=suzie@acme.com&ln=q&or=acme  \n",
       "2   https://www.surveymonkey.com/r/YV7KSRQ?em=rdodger@agate.org&ln=dodger&or=agate  "
      ]
     },
     "execution_count": 14,
     "metadata": {},
     "output_type": "execute_result"
    }
   ],
   "source": [
    "df.info()\n",
    "df"
   ]
  },
  {
   "cell_type": "code",
   "execution_count": 15,
   "metadata": {},
   "outputs": [],
   "source": [
    "df.to_csv('contacts_final2.csv')"
   ]
  }
 ],
 "metadata": {
  "kernelspec": {
   "display_name": "Python 3",
   "language": "python",
   "name": "python3"
  },
  "language_info": {
   "codemirror_mode": {
    "name": "ipython",
    "version": 3
   },
   "file_extension": ".py",
   "mimetype": "text/x-python",
   "name": "python",
   "nbconvert_exporter": "python",
   "pygments_lexer": "ipython3",
   "version": "3.7.3"
  }
 },
 "nbformat": 4,
 "nbformat_minor": 2
}
